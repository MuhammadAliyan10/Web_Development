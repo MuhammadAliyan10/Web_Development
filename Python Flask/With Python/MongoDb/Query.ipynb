{
 "cells": [
  {
   "cell_type": "code",
   "execution_count": 1,
   "metadata": {},
   "outputs": [],
   "source": [
    "import pymongo"
   ]
  },
  {
   "cell_type": "code",
   "execution_count": 2,
   "metadata": {},
   "outputs": [],
   "source": [
    "client = pymongo.MongoClient('mongodb://localhost:27017')"
   ]
  },
  {
   "cell_type": "code",
   "execution_count": 3,
   "metadata": {},
   "outputs": [],
   "source": [
    "myDb = client['Students']\n",
    "myDbCollection = myDb.studentsInformation"
   ]
  },
  {
   "cell_type": "code",
   "execution_count": 5,
   "metadata": {},
   "outputs": [
    {
     "data": {
      "text/plain": [
       "InsertManyResult([ObjectId('65c5ff53265a4fe565493922'), ObjectId('65c5ff53265a4fe565493923'), ObjectId('65c5ff53265a4fe565493924')], acknowledged=True)"
      ]
     },
     "execution_count": 5,
     "metadata": {},
     "output_type": "execute_result"
    }
   ],
   "source": [
    "records = [ {\n",
    "    \"name\":\"Muhammad Noor\",\n",
    "    \"dob\":\"11/4/2000\",\n",
    "    \"section\":\"A\",\n",
    "    \"age\":22}, {\n",
    "    \"name\":\"Muhammad Zubair\",\n",
    "    \"dob\":\"11/9/2004\",\n",
    "    \"section\":\"B\",\n",
    "    \"age\":21}, {\n",
    "    \"name\":\"Muhammad Usama Imran\",\n",
    "    \"dob\":\"1/4/2001\",\n",
    "    \"section\":\"B\",\n",
    "    \"age\":22}]\n",
    "myDbCollection.insert_many(records)"
   ]
  },
  {
   "cell_type": "code",
   "execution_count": 12,
   "metadata": {},
   "outputs": [
    {
     "name": "stdout",
     "output_type": "stream",
     "text": [
      "Muhammad Aliyan Nadeem\n"
     ]
    }
   ],
   "source": [
    "firstStudent = myDbCollection.find_one()\n",
    "print(firstStudent['name'])"
   ]
  },
  {
   "cell_type": "code",
   "execution_count": 7,
   "metadata": {},
   "outputs": [
    {
     "data": {
      "text/plain": [
       "<pymongo.cursor.Cursor at 0x1abc0d48790>"
      ]
     },
     "execution_count": 7,
     "metadata": {},
     "output_type": "execute_result"
    }
   ],
   "source": [
    "myDbCollection.find({})"
   ]
  },
  {
   "cell_type": "code",
   "execution_count": 10,
   "metadata": {},
   "outputs": [
    {
     "name": "stdout",
     "output_type": "stream",
     "text": [
      "{'_id': ObjectId('65c5fba5420413cb569a86cd'), 'name': 'Muhammad Aliyan Nadeem', 'dob': '21/4/2004', 'section': 'A', 'age': 20}\n",
      "{'_id': ObjectId('65c5ff53265a4fe565493922'), 'name': 'Muhammad Noor', 'dob': '11/4/2000', 'section': 'A', 'age': 22}\n",
      "{'_id': ObjectId('65c5ff53265a4fe565493923'), 'name': 'Muhammad Zubair', 'dob': '11/9/2004', 'section': 'B', 'age': 21}\n",
      "{'_id': ObjectId('65c5ff53265a4fe565493924'), 'name': 'Muhammad Usama Imran', 'dob': '1/4/2001', 'section': 'B', 'age': 22}\n"
     ]
    }
   ],
   "source": [
    "for i in myDbCollection.find():\n",
    "    print(i)"
   ]
  },
  {
   "cell_type": "code",
   "execution_count": 21,
   "metadata": {},
   "outputs": [
    {
     "name": "stdout",
     "output_type": "stream",
     "text": [
      "Data not found\n"
     ]
    }
   ],
   "source": [
    "#!By some conditions\n",
    "found = False\n",
    "for i in myDbCollection.find({'name':'MuhammadAliyan Nadeem'}):\n",
    "     print(i)\n",
    "     found = True\n",
    "if not found:\n",
    "     print(\"Data not found\")"
   ]
  },
  {
   "cell_type": "code",
   "execution_count": 27,
   "metadata": {},
   "outputs": [
    {
     "name": "stdout",
     "output_type": "stream",
     "text": [
      "No data found\n"
     ]
    }
   ],
   "source": [
    "#Query with operators\n",
    "found = False\n",
    "for i in myDbCollection.find({'section':{'$in':['D','C']}}):\n",
    "    print(i)\n",
    "    found = True\n",
    "if not found:\n",
    "    print(\"No data found\")"
   ]
  },
  {
   "cell_type": "code",
   "execution_count": 30,
   "metadata": {},
   "outputs": [
    {
     "name": "stdout",
     "output_type": "stream",
     "text": [
      "{'_id': ObjectId('65c5fba5420413cb569a86cd'), 'name': 'Muhammad Aliyan Nadeem', 'dob': '21/4/2004', 'section': 'A', 'age': 20}\n",
      "{'_id': ObjectId('65c5ff53265a4fe565493922'), 'name': 'Muhammad Noor', 'dob': '11/4/2000', 'section': 'A', 'age': 22}\n"
     ]
    }
   ],
   "source": [
    "#And, less then and greater then\n",
    "found = False\n",
    "for i in myDbCollection.find({'section':\"A\", 'age':{'$gt':19}}):\n",
    "    print(i)\n",
    "    found = True\n",
    "if not found:\n",
    "    print(\"No data found\")\n"
   ]
  },
  {
   "cell_type": "code",
   "execution_count": 35,
   "metadata": {},
   "outputs": [
    {
     "name": "stdout",
     "output_type": "stream",
     "text": [
      "{'_id': ObjectId('65c5ff53265a4fe565493922'), 'name': 'Muhammad Noor', 'dob': '11/4/2000', 'section': 'A', 'age': 22}\n",
      "{'_id': ObjectId('65c5ff53265a4fe565493923'), 'name': 'Muhammad Zubair', 'dob': '11/9/2004', 'section': 'B', 'age': 21}\n",
      "{'_id': ObjectId('65c5ff53265a4fe565493924'), 'name': 'Muhammad Usama Imran', 'dob': '1/4/2001', 'section': 'B', 'age': 22}\n"
     ]
    }
   ],
   "source": [
    "#Or Condition\n",
    "found = False\n",
    "for i in myDbCollection.find({'$or':[{\"age\":{'$gt':20}},{\"section\":\"C\"}]}):\n",
    "    print(i)\n",
    "    found = True\n",
    "if not found:\n",
    "    print(\"No data found\")"
   ]
  },
  {
   "cell_type": "code",
   "execution_count": 47,
   "metadata": {},
   "outputs": [],
   "source": [
    "data = []\n",
    "for i in myDbCollection.find({}):\n",
    "    data.append(i)"
   ]
  },
  {
   "cell_type": "code",
   "execution_count": 55,
   "metadata": {},
   "outputs": [
    {
     "name": "stdout",
     "output_type": "stream",
     "text": [
      "Muhammad Aliyan Nadeem 20 21/4/2004 A\n",
      "Muhammad Noor 22 11/4/2000 A\n",
      "Muhammad Zubair 21 11/9/2004 B\n",
      "Muhammad Usama Imran 22 1/4/2001 B\n"
     ]
    }
   ],
   "source": [
    "for i in data:\n",
    "    print(i['name'],i['age'],i['dob'],i['section'])"
   ]
  },
  {
   "cell_type": "code",
   "execution_count": null,
   "metadata": {},
   "outputs": [],
   "source": []
  }
 ],
 "metadata": {
  "kernelspec": {
   "display_name": "Python 3",
   "language": "python",
   "name": "python3"
  },
  "language_info": {
   "codemirror_mode": {
    "name": "ipython",
    "version": 3
   },
   "file_extension": ".py",
   "mimetype": "text/x-python",
   "name": "python",
   "nbconvert_exporter": "python",
   "pygments_lexer": "ipython3",
   "version": "3.11.2"
  }
 },
 "nbformat": 4,
 "nbformat_minor": 2
}
