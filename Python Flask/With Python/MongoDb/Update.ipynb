{
 "cells": [
  {
   "cell_type": "code",
   "execution_count": 1,
   "metadata": {},
   "outputs": [],
   "source": [
    "import pymongo\n"
   ]
  },
  {
   "cell_type": "code",
   "execution_count": 2,
   "metadata": {},
   "outputs": [],
   "source": [
    "client = pymongo.MongoClient('mongodb://localhost:27017')"
   ]
  },
  {
   "cell_type": "code",
   "execution_count": 3,
   "metadata": {},
   "outputs": [],
   "source": [
    "myDb = client['Students']\n",
    "myDbCollection = myDb.studentsInformation"
   ]
  },
  {
   "cell_type": "code",
   "execution_count": 4,
   "metadata": {},
   "outputs": [
    {
     "data": {
      "text/plain": [
       "InsertManyResult([ObjectId('65c6054628a8c4dae2c09bf7'), ObjectId('65c6054628a8c4dae2c09bf8'), ObjectId('65c6054628a8c4dae2c09bf9')], acknowledged=True)"
      ]
     },
     "execution_count": 4,
     "metadata": {},
     "output_type": "execute_result"
    }
   ],
   "source": [
    "records = [ {\n",
    "    \"name\":\"Ali Usman\",\n",
    "    \"dob\":\"12/4/2010\",\n",
    "    \"section\":\"C\",\n",
    "    \"age\":18}, {\n",
    "    \"name\":\"Muhammad Ali\",\n",
    "    \"dob\":\"01/9/2004\",\n",
    "    \"section\":\"A\",\n",
    "    \"age\":29}, {\n",
    "    \"name\":\"Muhammad Qasim Ali\",\n",
    "    \"dob\":\"01/10/2001\",\n",
    "    \"section\":\"A\",\n",
    "    \"age\":17}]\n",
    "myDbCollection.insert_many(records)"
   ]
  },
  {
   "cell_type": "code",
   "execution_count": 9,
   "metadata": {},
   "outputs": [
    {
     "data": {
      "text/plain": [
       "UpdateResult({'n': 1, 'nModified': 1, 'ok': 1.0, 'updatedExisting': True}, acknowledged=True)"
      ]
     },
     "execution_count": 9,
     "metadata": {},
     "output_type": "execute_result"
    }
   ],
   "source": [
    "myDbCollection.update_one({'name':\"Muhammad Aliyan Nadeem\"},{'$set':{'section':\"A\"},'$currentDate':{'lastModified':True}})"
   ]
  },
  {
   "cell_type": "code",
   "execution_count": null,
   "metadata": {},
   "outputs": [],
   "source": []
  }
 ],
 "metadata": {
  "kernelspec": {
   "display_name": "Python 3",
   "language": "python",
   "name": "python3"
  },
  "language_info": {
   "codemirror_mode": {
    "name": "ipython",
    "version": 3
   },
   "file_extension": ".py",
   "mimetype": "text/x-python",
   "name": "python",
   "nbconvert_exporter": "python",
   "pygments_lexer": "ipython3",
   "version": "3.11.2"
  }
 },
 "nbformat": 4,
 "nbformat_minor": 2
}
